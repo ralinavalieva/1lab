{
  "cells": [
    {
      "cell_type": "markdown",
      "metadata": {
        "id": "view-in-github",
        "colab_type": "text"
      },
      "source": [
        "<a href=\"https://colab.research.google.com/github/ralinavalieva/1lab/blob/main/lab6.ipynb\" target=\"_parent\"><img src=\"https://colab.research.google.com/assets/colab-badge.svg\" alt=\"Open In Colab\"/></a>"
      ]
    },
    {
      "cell_type": "markdown",
      "source": [
        "# Новый раздел"
      ],
      "metadata": {
        "id": "PKGnmEVk2fGA"
      }
    },
    {
      "cell_type": "code",
      "source": [
        "import pandas as pd  # Библиотека для работы с данными в табличном формате\n",
        "\n",
        "\n",
        "data = pd.read_csv('/content/students.csv', encoding='utf-8', sep = ',') # Загрузка данных из CSV-файла (encoding='utf-8' чтение русских слов)\n",
        "\n",
        "print(\"\\n Первые 5 строк данных:\") # Выводим 5 первых строк датасета для ознакомления\n",
        "print(data.head())  # По умолчанию выводит 5 строк\n",
        "\n",
        "print(\"\\n Информация о данных:\") # Выводим информации о структуре данных\n",
        "print(data.info())  # Показывает типы данных, количество ненулевых значений и использование памяти\n",
        "\n",
        "print(\"\\n Описательная статистика числовых данных:\") # Выводим сводную статистику по числовым столбцам\n",
        "print(data.describe())  # Для столбцов (Age, Score) показывает count(Кол-во непустых знач.), mean, std(стандарт. отклонене), min, max и квантили(25%,50%,74%)\n",
        "\n",
        "print(\"\\n Анализ успеваемости:\") # Выводим среднего балла студентов\n",
        "average_score = data['Score'].mean()  # Вычисляем среднего арифметического\n",
        "student_amount = data.groupby('Group')['Score'].count()  # Группируем данные и считаем кол-во студентов в каждой группе\n",
        "print(f\"Средний балл студентов: {average_score}\")\n",
        "print(student_amount)"
      ],
      "metadata": {
        "id": "SKAU__nd2fPA",
        "outputId": "b84ed12b-22c5-4925-c06c-265c5a5234c9",
        "colab": {
          "base_uri": "https://localhost:8080/"
        }
      },
      "execution_count": 2,
      "outputs": [
        {
          "output_type": "stream",
          "name": "stdout",
          "text": [
            "\n",
            " Первые 5 строк данных:\n",
            "       Name  Age Group  Score\n",
            "0   Алексей   20    A1     85\n",
            "1      Анна   21    A1     78\n",
            "2     Борис   19    B2     92\n",
            "3  Виктория   22    B2     88\n",
            "4   Дмитрий   20    C3     76\n",
            "\n",
            " Информация о данных:\n",
            "<class 'pandas.core.frame.DataFrame'>\n",
            "RangeIndex: 25 entries, 0 to 24\n",
            "Data columns (total 4 columns):\n",
            " #   Column  Non-Null Count  Dtype \n",
            "---  ------  --------------  ----- \n",
            " 0   Name    25 non-null     object\n",
            " 1   Age     25 non-null     int64 \n",
            " 2   Group   25 non-null     object\n",
            " 3   Score   25 non-null     int64 \n",
            "dtypes: int64(2), object(2)\n",
            "memory usage: 932.0+ bytes\n",
            "None\n",
            "\n",
            " Описательная статистика числовых данных:\n",
            "             Age     Score\n",
            "count  25.000000  25.00000\n",
            "mean   21.320000  84.48000\n",
            "std     1.281926   6.13134\n",
            "min    19.000000  75.00000\n",
            "25%    20.000000  79.00000\n",
            "50%    21.000000  85.00000\n",
            "75%    22.000000  89.00000\n",
            "max    24.000000  95.00000\n",
            "\n",
            " Анализ успеваемости:\n",
            "Средний балл студентов: 84.48\n",
            "Group\n",
            "A1    6\n",
            "B2    6\n",
            "C3    5\n",
            "D4    4\n",
            "E5    4\n",
            "Name: Score, dtype: int64\n"
          ]
        }
      ]
    },
    {
      "cell_type": "code",
      "source": [
        "import pandas as pd  # Библиотека для работы с данными в табличном формате\n",
        "\n",
        "\n",
        "data = pd.read_csv('/content/students.csv', encoding='utf-8', sep = ',') # Загрузка данных из CSV-файла (encoding='utf-8' чтение русских слов)\n",
        "\n",
        "high_scorers = data[data['Score'] > 80] # Фильтрация: балл > 80\n",
        "\n",
        "top_students = high_scorers.sort_values('Score', ascending=False) # Сортировка по убыванию балла\n",
        "\n",
        "# Поиск возрастных экстремумов\n",
        "oldest = data.loc[data['Age'].idxmax()]  # Самый старший\n",
        "youngest = data.loc[data['Age'].idxmin()]  # Самый младший\n",
        "\n",
        "# Вывод результатов\n",
        "print(\"Топ студенты (балл > 80):\")\n",
        "print(top_students[['Name', 'Score']])\n",
        "\n",
        "print(f\"\\nСамый старший: {oldest['Name']}, {oldest['Age']} лет\")\n",
        "print(f\"Самый младший: {youngest['Name']}, {youngest['Age']} лет\")"
      ],
      "metadata": {
        "id": "Ut6CLY-U2mbI",
        "outputId": "d29182a5-80b7-491b-8d23-a241870205e1",
        "colab": {
          "base_uri": "https://localhost:8080/"
        }
      },
      "execution_count": 3,
      "outputs": [
        {
          "output_type": "stream",
          "name": "stdout",
          "text": [
            "Топ студенты (балл > 80):\n",
            "        Name  Score\n",
            "23     Лилия     95\n",
            "19  Светлана     94\n",
            "15     Роман     93\n",
            "2      Борис     92\n",
            "11   Наталья     91\n",
            "6     Сергей     90\n",
            "9      Дарья     89\n",
            "21  Катерина     88\n",
            "3   Виктория     88\n",
            "17    Михаил     87\n",
            "13      Олег     86\n",
            "0    Алексей     85\n",
            "22  Владимир     85\n",
            "10    Максим     84\n",
            "14      Юлия     83\n",
            "7   Кристина     82\n",
            "18   Евгений     81\n",
            "\n",
            "Самый старший: Дарья, 24 лет\n",
            "Самый младший: Борис, 19 лет\n"
          ]
        }
      ]
    },
    {
      "cell_type": "code",
      "source": [
        "import pandas as pd\n",
        "\n",
        "data = pd.read_csv('/content/students_with_gaps.csv', encoding='utf-8', sep = ',') # Загрузка данных из CSV-файла (encoding='utf-8' чтение русских слов)\n",
        "\n",
        "# Проверка пропусков\n",
        "print(\"Количество пропусков по столбцам:\")\n",
        "print(data.isnull().sum()) # выводит количество NaN (пустые ячейки) по столбцам\n",
        "\n",
        "mean_score = data['Score'].mean() # Вычисляет ср. знач. в столбце Score\n",
        "data['Score'] = data['Score'].fillna(mean_score) # заменяем пустые знач Score на ср балл\n",
        "\n",
        "# Удаление строк с пропусками в Group\n",
        "data = data.dropna(subset=['Group'])\n",
        "\n",
        "print(\"\\nПосле обработки пропусков:\")\n",
        "print(data.isnull().sum()) # Проверку на наличие пропущенных данных\n",
        "\n",
        "# Сохранение очищенных данных\n",
        "data.to_csv('students_clean.csv', index=False)"
      ],
      "metadata": {
        "id": "NI1wmXub2om4",
        "outputId": "ce66c65b-2b61-4e8d-9b76-4156b23b603a",
        "colab": {
          "base_uri": "https://localhost:8080/"
        }
      },
      "execution_count": 4,
      "outputs": [
        {
          "output_type": "stream",
          "name": "stdout",
          "text": [
            "Количество пропусков по столбцам:\n",
            "Name     0\n",
            "Age      0\n",
            "Group    3\n",
            "Score    5\n",
            "dtype: int64\n",
            "\n",
            "После обработки пропусков:\n",
            "Name     0\n",
            "Age      0\n",
            "Group    0\n",
            "Score    0\n",
            "dtype: int64\n"
          ]
        }
      ]
    },
    {
      "cell_type": "code",
      "source": [
        "import pandas as pd  # Библиотека для работы с данными в табличном формате\n",
        "\n",
        "\n",
        "data = pd.read_csv('/content/students.csv', encoding='utf-8', sep = ',') # Загрузка данных из CSV-файла\n",
        "\n",
        "print(\"\\nСредний балл по группам:\")\n",
        "print(data.groupby('Group')['Score'].mean())  # Средний балл для каждой группы\n",
        "\n",
        "print(\"\\nМедианный возраст по группам:\")\n",
        "print(data.groupby('Group')['Age'].median())  # Медиана возраста по группам\n",
        "\n",
        "data['Passed'] = data['Score'].apply(lambda x: 1 if x >= 60 else 0)  # Добавляем новый столбец Passed (1, если балл ≥ 60, иначе 0)\n",
        "print(\"\\nПолные данные с результатами:\")\n",
        "print(data)  # Вывод всех данных с новым столбцом"
      ],
      "metadata": {
        "id": "SlFp-E8m2rEo",
        "outputId": "f8af5dbe-f11f-4b00-b788-2fbbb1237d65",
        "colab": {
          "base_uri": "https://localhost:8080/"
        }
      },
      "execution_count": 5,
      "outputs": [
        {
          "output_type": "stream",
          "name": "stdout",
          "text": [
            "\n",
            "Средний балл по группам:\n",
            "Group\n",
            "A1    83.666667\n",
            "B2    87.166667\n",
            "C3    82.000000\n",
            "D4    84.500000\n",
            "E5    84.750000\n",
            "Name: Score, dtype: float64\n",
            "\n",
            "Медианный возраст по группам:\n",
            "Group\n",
            "A1    21.0\n",
            "B2    21.5\n",
            "C3    21.0\n",
            "D4    21.5\n",
            "E5    21.5\n",
            "Name: Age, dtype: float64\n",
            "\n",
            "Полные данные с результатами:\n",
            "        Name  Age Group  Score  Passed\n",
            "0    Алексей   20    A1     85       1\n",
            "1       Анна   21    A1     78       1\n",
            "2      Борис   19    B2     92       1\n",
            "3   Виктория   22    B2     88       1\n",
            "4    Дмитрий   20    C3     76       1\n",
            "5      Елена   23    C3     80       1\n",
            "6     Сергей   21    D4     90       1\n",
            "7   Кристина   22    D4     82       1\n",
            "8      Игорь   20    E5     75       1\n",
            "9      Дарья   24    E5     89       1\n",
            "10    Максим   21    A1     84       1\n",
            "11   Наталья   22    A1     91       1\n",
            "12    Андрей   20    B2     77       1\n",
            "13      Олег   23    B2     86       1\n",
            "14      Юлия   21    C3     83       1\n",
            "15     Роман   22    C3     93       1\n",
            "16      Инна   20    D4     79       1\n",
            "17    Михаил   23    D4     87       1\n",
            "18   Евгений   21    E5     81       1\n",
            "19  Светлана   22    E5     94       1\n",
            "20     Павел   20    A1     76       1\n",
            "21  Катерина   23    A1     88       1\n",
            "22  Владимир   21    B2     85       1\n",
            "23     Лилия   22    B2     95       1\n",
            "24     Артём   20    C3     78       1\n"
          ]
        }
      ]
    },
    {
      "cell_type": "code",
      "source": [
        "import matplotlib.pyplot as plt\n",
        "import pandas as pd\n",
        "\n",
        "data = pd.read_csv('/content/students.csv', encoding='utf-8', sep = ',') # Загрузка данных из CSV-файла (encoding='utf-8' чтение русских слов)\n",
        "\n",
        "# 1. Гистограмма распределения баллов\n",
        "plt.figure(figsize=(10, 5))\n",
        "data['Score'].hist(bins=20, color='#DE5BDC', edgecolor='#91E3DC')\n",
        "plt.title('Распределение баллов студентов')\n",
        "plt.xlabel('Баллы')\n",
        "plt.ylabel('Количество студентов')\n",
        "plt.grid(alpha=0.5)\n",
        "plt.show()\n",
        "\n",
        "# 2. Столбчатая диаграмма по группам\n",
        "plt.figure(figsize=(10, 5))\n",
        "data.groupby('Group')['Score'].mean().plot(kind='bar', color='#91E3DC', edgecolor='#620940')\n",
        "plt.title('Средний балл по группам')\n",
        "plt.xlabel('Группа')\n",
        "plt.ylabel('Средний балл')\n",
        "plt.xticks(rotation=0)\n",
        "plt.grid(axis='y', alpha=0.5)\n",
        "plt.show()"
      ],
      "metadata": {
        "id": "r152Trx_2umI",
        "outputId": "b0b1897e-f8a7-4f2d-d838-2fa625671ec7",
        "colab": {
          "base_uri": "https://localhost:8080/",
          "height": 957
        }
      },
      "execution_count": 9,
      "outputs": [
        {
          "output_type": "display_data",
          "data": {
            "text/plain": [
              "<Figure size 1000x500 with 1 Axes>"
            ],
            "image/png": "[encoded data removed]"
          },
          "metadata": {}
        },
        {
          "output_type": "display_data",
          "data": {
            "text/plain": [
              "<Figure size 1000x500 with 1 Axes>"
            ],
            "image/png": "[encoded data removed]"
          },
          "metadata": {}
        }
      ]
    }
  ],
  "metadata": {
    "colab": {
      "provenance": [],
      "include_colab_link": true
    },
    "kernelspec": {
      "display_name": "Python 3",
      "name": "python3"
    }
  },
  "nbformat": 4,
  "nbformat_minor": 0
}